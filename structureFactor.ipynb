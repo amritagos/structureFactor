{
 "cells": [
  {
   "cell_type": "markdown",
   "metadata": {},
   "source": [
    "This code uses the freud package, alongwith PyLammps, to calculate the averaged structure factor for a generic system over a user-defined range of snapshots in a lammps trajectory file."
   ]
  },
  {
   "cell_type": "code",
   "execution_count": 1,
   "metadata": {},
   "outputs": [
    {
     "name": "stdout",
     "output_type": "stream",
     "text": [
      "LAMMPS output is captured by PyLammps wrapper\n"
     ]
    }
   ],
   "source": [
    "import numpy as np\n",
    "import time\n",
    "from cycler import cycler\n",
    "import matplotlib\n",
    "from matplotlib import pyplot\n",
    "from matplotlib.colors import colorConverter\n",
    "myHexColors = [\"#30A2DA\", \"#FC4F30\", \"#E5AE38\", \"#6D904F\", \"#9757DB\", \"#188487\", \"#FF7F00\", \"#9A2C66\", \"#626DDA\", \"#8B8B8B\"]\n",
    "myColorCycle = [colorConverter.to_rgb(i) for i in myHexColors]\n",
    "from freud import parallel\n",
    "parallel.setNumThreads(4)\n",
    "\n",
    "from ipywidgets import IntProgress\n",
    "from IPython.display import display\n",
    "\n",
    "# matplotlib.rcParams.update({'font.sans-serif': 'Helvetica'})\n",
    "# matplotlib.rcParams.update({'font.family': 'sans-serif'})\n",
    "matplotlib.rcParams.update({'font.size': 24})\n",
    "matplotlib.rcParams.update({'axes.labelsize': 24})\n",
    "matplotlib.rcParams.update({'xtick.labelsize': 18})\n",
    "matplotlib.rcParams.update({'ytick.labelsize': 18})\n",
    "matplotlib.rcParams.update({'savefig.pad_inches': 0.025})\n",
    "matplotlib.rcParams.update({\"axes.prop_cycle\": cycler(color=myColorCycle)})\n",
    "matplotlib.rcParams.update({\"lines.linewidth\": 2})\n",
    "\n",
    "# lammps\n",
    "from lammps import lammps, PyLammps\n",
    "lmp = lammps()\n",
    "L = PyLammps(ptr=lmp) # Get PyLammps"
   ]
  },
  {
   "cell_type": "markdown",
   "metadata": {},
   "source": [
    "All the user-defined stuff is in the next cell. Update the name of your trajectory file accordingly. It should be inside the subfolder traj. If you specify a frame that is not present in the lammps trajectory file, PyLammps will throw an error. \n",
    "TODO: Read these from an input file?"
   ]
  },
  {
   "cell_type": "code",
   "execution_count": 2,
   "metadata": {},
   "outputs": [],
   "source": [
    "# User-defined stuff\n",
    "system = 'fcc'\n",
    "typeID = 1\n",
    "frameNo = 500000 #500000\n",
    "endFrame = 515000 #1000000\n",
    "dumpFreq = 5000 #1000 #5000\n",
    "nFrames = int((endFrame - frameNo)/dumpFreq) \n",
    "# Dumpfile name to read from \n",
    "dumpfile = 'traj/dump-' + system + '.lammpstrj'\n",
    "# Define the no. of grid points in each dim: 2*g+1\n",
    "grid = 25"
   ]
  },
  {
   "cell_type": "markdown",
   "metadata": {},
   "source": [
    "Average the structure factor over the frames specified by frameNo and endFrame (inclusive of both). If you specify a frame that is not present in the lammps trajectory file, PyLammps will throw an error.\n",
    "\n",
    "If you run the cell below more than once, make sure to uncomment the PyLammps command for reading in the data file, or else you will get a Lammps error."
   ]
  },
  {
   "cell_type": "code",
   "execution_count": 3,
   "metadata": {},
   "outputs": [
    {
     "data": {
      "application/vnd.jupyter.widget-view+json": {
       "model_id": "ff206d87f7354b00829947a2528cb6db",
       "version_major": 2,
       "version_minor": 0
      },
      "text/plain": [
       "IntProgress(value=1, max=3, min=1)"
      ]
     },
     "metadata": {},
     "output_type": "display_data"
    },
    {
     "name": "stderr",
     "output_type": "stream",
     "text": [
      "/home/sadanandam/miniconda3/lib/python3.6/site-packages/freud/kspace.py:144: ComplexWarning: Casting complex values to real discards the imaginary part\n",
      "  np.float32)\n"
     ]
    },
    {
     "name": "stdout",
     "output_type": "stream",
     "text": [
      "Frame number  505000\n",
      "Frame number  510000\n",
      "Frame number  515000\n",
      "time to calc 3 frames = 46.71709871292114\n",
      "speed of calc: 0.06421631656612811 (frames/sec)\n"
     ]
    },
    {
     "data": {
      "image/png": "[encoded data removed]",
      "text/plain": [
       "<Figure size 576x360 with 1 Axes>"
      ]
     },
     "metadata": {},
     "output_type": "display_data"
    }
   ],
   "source": [
    "# import the freud object\n",
    "# the rdf module is contained in the density module\n",
    "from freud import box, kspace\n",
    "\n",
    "# Current frame\n",
    "frame = frameNo+dumpFreq\n",
    "\n",
    "# compute the rdf for for all frames except the first (your syntax will vary based on your reader)\n",
    "myProgressBar = IntProgress(min=1,max=nFrames)\n",
    "display(myProgressBar)\n",
    "\n",
    "# Lammps init\n",
    "# load the data\n",
    "# Read in the lammps input file\n",
    "lmp.file('lammpsFiles/inp.'+ system) # LAMMPS input file for the system\n",
    "# Get the number of atoms of one typeID\n",
    "natoms = 0\n",
    "L.read_dump(dumpfile, frameNo, \"x y z box yes replace yes\")\n",
    "for i in range(L.atoms.natoms):\n",
    "    if L.atoms[i].type==typeID:\n",
    "        natoms += 1\n",
    "# Define numPy coordinate array; here natoms is the no. of atoms of type 1\n",
    "x = np.zeros((natoms,3), dtype=float)\n",
    "\n",
    "# Get the simulation box from PyLammps\n",
    "box_limits = [L.system.xhi-L.system.xlo, L.system.yhi-L.system.ylo, L.system.zhi-L.system.zlo] # box from lammps\n",
    "# --------------------------------\n",
    "# Compute the structure factor for the first step specified by frameNo\n",
    "# create the freud box object\n",
    "fbox = box.Box(Lx=box_limits[0], Ly=box_limits[1], Lz=box_limits[2]) \n",
    "\n",
    "# create the structure factor object\n",
    "# g defines the no. of grid points = 2*g+1\n",
    "strucFactor = kspace.SFactor3DPoints(box=fbox,g=grid) \n",
    "# compute 3-D static structure factor\n",
    "strucFactor.compute(x)\n",
    "# get the value of the histogram bins of the structure factor\n",
    "S = strucFactor.getS()\n",
    "# Create the object for the 1-D analog of the 3-D structure factor\n",
    "stucOneD = kspace.AnalyzeSFactor3D(S)\n",
    "# Get a list of all S(∣∣q∣∣) values vs q2.\n",
    "sMod, q2 = stucOneD.getSvsQ()\n",
    "# Take the square root of q2 to get q\n",
    "q = np.sqrt(q2)\n",
    "\n",
    "# --------------------------------\n",
    "start_time = time.time()\n",
    "for i in range(nFrames):\n",
    "    # Progress bar\n",
    "    myProgressBar.value = int(frame/dumpFreq)\n",
    "    # --------------------------\n",
    "    # Lammps stuff\n",
    "    # read box, position data from the lammps dumpfile\n",
    "    L.read_dump(dumpfile, frame, \"x y z box yes replace yes\")\n",
    "    # Get coord\n",
    "    # Assigning values to numpy array x\n",
    "    for i in range(L.atoms.natoms):\n",
    "        if L.atoms[i].type==typeID:\n",
    "            for k in range(3):\n",
    "                x[i][k] = L.atoms[i].position[k]          \n",
    "    box_limits = [L.system.xhi-L.system.xlo, L.system.yhi-L.system.ylo, L.system.zhi-L.system.zlo] # box from lammps\n",
    "    # --------------------------\n",
    "    # create the freud box object\n",
    "    fbox = box.Box(Lx=box_limits[0], Ly=box_limits[1], Lz=box_limits[2])    \n",
    "\n",
    "    # compute 3-D static structure factor\n",
    "    strucFactor.compute(x)\n",
    "    \n",
    "    # get the value of the histogram bins of the structure factor\n",
    "    S = strucFactor.getS()\n",
    "    \n",
    "    # Create the object for the 1-D analog of the 3-D structure factor\n",
    "    stucOneD = kspace.AnalyzeSFactor3D(S)\n",
    "    \n",
    "    # Get a list of all S(∣∣q∣∣) values vs q2.\n",
    "    sModOne, q2 = stucOneD.getSvsQ()\n",
    "    # Take the square root of q2 to get q\n",
    "    qOne = np.sqrt(q2)\n",
    "    \n",
    "    # Average output over previous frames\n",
    "    sMod = 0.5*(sMod + sModOne)\n",
    "    q = 0.5*(qOne + q)\n",
    "\n",
    "    # ----------------------------\n",
    "    # Update frame number\n",
    "    print(\"Frame number \", frame)\n",
    "    frame = frame + dumpFreq\n",
    "stop_time = time.time()\n",
    "print(\"time to calc {} frames = {}\".format(nFrames, stop_time-start_time))\n",
    "print(\"speed of calc: {} (frames/sec)\".format((nFrames)/(stop_time-start_time)))\n",
    "\n",
    "pyplot.figure(figsize=(8, 5))\n",
    "pyplot.title(\"Structure Factor - Average\")\n",
    "pyplot.plot(q, sMod)\n",
    "pyplot.xlabel(r\"$q$\")\n",
    "pyplot.ylabel(r\"$S\\left( \\Vert q \\Vert \\right)$\")\n",
    "pyplot.tight_layout()\n",
    "pyplot.show()\n"
   ]
  }
 ],
 "metadata": {
  "kernelspec": {
   "display_name": "Python 3",
   "language": "python",
   "name": "python3"
  },
  "language_info": {
   "codemirror_mode": {
    "name": "ipython",
    "version": 3
   },
   "file_extension": ".py",
   "mimetype": "text/x-python",
   "name": "python",
   "nbconvert_exporter": "python",
   "pygments_lexer": "ipython3",
   "version": "3.6.5"
  }
 },
 "nbformat": 4,
 "nbformat_minor": 2
}
