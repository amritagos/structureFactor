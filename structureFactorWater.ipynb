{
 "cells": [
  {
   "cell_type": "markdown",
   "metadata": {},
   "source": [
    "This code uses the freud package, alongwith PyLammps, to calculate the averaged structure factor for a *water* over a user-defined range of snapshots in a lammps trajectory file."
   ]
  },
  {
   "cell_type": "code",
   "execution_count": 1,
   "metadata": {},
   "outputs": [
    {
     "ename": "ModuleNotFoundError",
     "evalue": "No module named 'freud'",
     "output_type": "error",
     "traceback": [
      "\u001b[0;31m---------------------------------------------------------------------------\u001b[0m",
      "\u001b[0;31mModuleNotFoundError\u001b[0m                       Traceback (most recent call last)",
      "\u001b[0;32m<ipython-input-1-d8d918d569d9>\u001b[0m in \u001b[0;36m<module>\u001b[0;34m()\u001b[0m\n\u001b[1;32m      7\u001b[0m \u001b[0mmyHexColors\u001b[0m \u001b[0;34m=\u001b[0m \u001b[0;34m[\u001b[0m\u001b[0;34m\"#30A2DA\"\u001b[0m\u001b[0;34m,\u001b[0m \u001b[0;34m\"#FC4F30\"\u001b[0m\u001b[0;34m,\u001b[0m \u001b[0;34m\"#E5AE38\"\u001b[0m\u001b[0;34m,\u001b[0m \u001b[0;34m\"#6D904F\"\u001b[0m\u001b[0;34m,\u001b[0m \u001b[0;34m\"#9757DB\"\u001b[0m\u001b[0;34m,\u001b[0m \u001b[0;34m\"#188487\"\u001b[0m\u001b[0;34m,\u001b[0m \u001b[0;34m\"#FF7F00\"\u001b[0m\u001b[0;34m,\u001b[0m \u001b[0;34m\"#9A2C66\"\u001b[0m\u001b[0;34m,\u001b[0m \u001b[0;34m\"#626DDA\"\u001b[0m\u001b[0;34m,\u001b[0m \u001b[0;34m\"#8B8B8B\"\u001b[0m\u001b[0;34m]\u001b[0m\u001b[0;34m\u001b[0m\u001b[0m\n\u001b[1;32m      8\u001b[0m \u001b[0mmyColorCycle\u001b[0m \u001b[0;34m=\u001b[0m \u001b[0;34m[\u001b[0m\u001b[0mcolorConverter\u001b[0m\u001b[0;34m.\u001b[0m\u001b[0mto_rgb\u001b[0m\u001b[0;34m(\u001b[0m\u001b[0mi\u001b[0m\u001b[0;34m)\u001b[0m \u001b[0;32mfor\u001b[0m \u001b[0mi\u001b[0m \u001b[0;32min\u001b[0m \u001b[0mmyHexColors\u001b[0m\u001b[0;34m]\u001b[0m\u001b[0;34m\u001b[0m\u001b[0m\n\u001b[0;32m----> 9\u001b[0;31m \u001b[0;32mfrom\u001b[0m \u001b[0mfreud\u001b[0m \u001b[0;32mimport\u001b[0m \u001b[0mparallel\u001b[0m\u001b[0;34m\u001b[0m\u001b[0m\n\u001b[0m\u001b[1;32m     10\u001b[0m \u001b[0mparallel\u001b[0m\u001b[0;34m.\u001b[0m\u001b[0msetNumThreads\u001b[0m\u001b[0;34m(\u001b[0m\u001b[0;36m4\u001b[0m\u001b[0;34m)\u001b[0m\u001b[0;34m\u001b[0m\u001b[0m\n\u001b[1;32m     11\u001b[0m \u001b[0;34m\u001b[0m\u001b[0m\n",
      "\u001b[0;31mModuleNotFoundError\u001b[0m: No module named 'freud'"
     ]
    }
   ],
   "source": [
    "import numpy as np\n",
    "import time\n",
    "from cycler import cycler\n",
    "import matplotlib\n",
    "from matplotlib import pyplot\n",
    "from matplotlib.colors import colorConverter\n",
    "myHexColors = [\"#30A2DA\", \"#FC4F30\", \"#E5AE38\", \"#6D904F\", \"#9757DB\", \"#188487\", \"#FF7F00\", \"#9A2C66\", \"#626DDA\", \"#8B8B8B\"]\n",
    "myColorCycle = [colorConverter.to_rgb(i) for i in myHexColors]\n",
    "from freud import parallel\n",
    "parallel.setNumThreads(4)\n",
    "\n",
    "from ipywidgets import IntProgress\n",
    "from IPython.display import display\n",
    "\n",
    "# matplotlib.rcParams.update({'font.sans-serif': 'Helvetica'})\n",
    "# matplotlib.rcParams.update({'font.family': 'sans-serif'})\n",
    "matplotlib.rcParams.update({'font.size': 24})\n",
    "matplotlib.rcParams.update({'axes.labelsize': 24})\n",
    "matplotlib.rcParams.update({'xtick.labelsize': 18})\n",
    "matplotlib.rcParams.update({'ytick.labelsize': 18})\n",
    "matplotlib.rcParams.update({'savefig.pad_inches': 0.025})\n",
    "matplotlib.rcParams.update({\"axes.prop_cycle\": cycler(color=myColorCycle)})\n",
    "matplotlib.rcParams.update({\"lines.linewidth\": 2})\n",
    "\n",
    "# lammps\n",
    "from lammps import lammps, PyLammps\n",
    "lmp = lammps()\n",
    "L = PyLammps(ptr=lmp) # Get PyLammps"
   ]
  },
  {
   "cell_type": "markdown",
   "metadata": {},
   "source": [
    "All the user-defined stuff is in the next cell. Update the name of your trajectory file accordingly. It should be inside the subfolder traj. If you specify a frame that is not present in the lammps trajectory file, PyLammps will throw an error. TODO: Read these from an input file?"
   ]
  },
  {
   "cell_type": "code",
   "execution_count": null,
   "metadata": {},
   "outputs": [],
   "source": [
    "# User-defined stuff\n",
    "filename = 'dump-8-40000.lammpstrj'\n",
    "typeID = 2 # Oxygen atom ID\n",
    "frameNo = 1000000\n",
    "endFrame = 1006000 \n",
    "dumpFreq = 2000 #1000 #5000\n",
    "nFrames = int((endFrame - frameNo)/dumpFreq) \n",
    "# Dumpfile name to read from \n",
    "dumpfile = 'traj/' + filename\n",
    "# restart file to read the box information etc from\n",
    "restartFile = 'x.r1_8-50000'\n",
    "# Define the no. of grid points in each dim: 2*g+1\n",
    "grid = 20"
   ]
  },
  {
   "cell_type": "markdown",
   "metadata": {},
   "source": [
    "Average the structure factor over the frames specified by frameNo and endFrame (inclusive of both). If you specify a frame that is not present in the lammps trajectory file, PyLammps will throw an error.\n",
    "\n",
    "If you run the cell below more than once, make sure to uncomment the PyLammps command for reading in the restart file, or else you will get a Lammps error.\n",
    "\n",
    "The following gets the 1-D structure factor analogue for the frame specified by frameNo"
   ]
  },
  {
   "cell_type": "code",
   "execution_count": null,
   "metadata": {},
   "outputs": [],
   "source": [
    "# import the freud object\n",
    "# the rdf module is contained in the density module\n",
    "from freud import box, kspace\n",
    "\n",
    "# Current frame\n",
    "frame = frameNo+dumpFreq\n",
    "\n",
    "# compute the rdf for for all frames except the first (your syntax will vary based on your reader)\n",
    "myProgressBar = IntProgress(min=1,max=nFrames)\n",
    "display(myProgressBar)\n",
    "\n",
    "# Lammps init\n",
    "# load the data\n",
    "# Read in the restart file\n",
    "L.read_restart('lammpsFiles/restart/'+ restartFile) \n",
    "# Get the number of atoms of one typeID\n",
    "natoms = 0\n",
    "L.read_dump(dumpfile, frameNo, \"x y z box yes replace yes\")\n",
    "for i in range(L.atoms.natoms):\n",
    "    if L.atoms[i].type==typeID:\n",
    "        natoms += 1\n",
    "# Define numPy coordinate array; here natoms is the no. of atoms of type 1\n",
    "x = np.zeros((natoms+1,3), dtype=float)\n",
    "\n",
    "iatom = 0 # Array index for Oxygen array \n",
    "# Get the coordinates\n",
    "for i in range(L.atoms.natoms):\n",
    "    if L.atoms[i].type==typeID:\n",
    "        for k in range(3):\n",
    "            x[iatom][k] = L.atoms[iatom].position[k]\n",
    "            iatom += 1\n",
    "\n",
    "# Get the simulation box from PyLammps\n",
    "box_limits = [L.system.xhi-L.system.xlo, L.system.yhi-L.system.ylo, L.system.zhi-L.system.zlo] # box from lammps\n",
    "# --------------------------------\n",
    "# Compute the structure factor for the first step specified by frameNo\n",
    "# create the freud box object\n",
    "fbox = box.Box(Lx=box_limits[0], Ly=box_limits[1], Lz=box_limits[2]) \n",
    "\n",
    "# create the structure factor object\n",
    "# g defines the no. of grid points = 2*g+1\n",
    "strucFactor = kspace.SFactor3DPoints(box=fbox,g=grid) \n",
    "# compute 3-D static structure factor\n",
    "strucFactor.compute(x)\n",
    "# get the value of the histogram bins of the structure factor\n",
    "S = strucFactor.getS()\n",
    "# Create the object for the 1-D analog of the 3-D structure factor\n",
    "stucOneD = kspace.AnalyzeSFactor3D(S)\n",
    "# Get a list of all S(∣∣q∣∣) values vs q2.\n",
    "sMod, q2 = stucOneD.getSvsQ()\n",
    "# Take the square root of q2 to get q\n",
    "q = np.sqrt(q2)\n",
    "\n",
    "# test\n",
    "print(\"I worked yay\")"
   ]
  },
  {
   "cell_type": "markdown",
   "metadata": {},
   "source": [
    "Now loop over the rest of the frames:"
   ]
  },
  {
   "cell_type": "code",
   "execution_count": null,
   "metadata": {},
   "outputs": [],
   "source": [
    "# --------------------------------\n",
    "start_time = time.time()\n",
    "for i in range(nFrames):\n",
    "    # Progress bar\n",
    "    myProgressBar.value = int(frame/dumpFreq)\n",
    "    # --------------------------\n",
    "    # Lammps stuff\n",
    "    # read box, position data from the lammps dumpfile\n",
    "    L.read_dump(dumpfile, frame, \"x y z box yes replace yes\")\n",
    "    # Get coord\n",
    "    # Assigning values to numpy array x\n",
    "    iatom = 0\n",
    "    for i in range(L.atoms.natoms):\n",
    "        if L.atoms[i].type==typeID:\n",
    "            for k in range(3):\n",
    "                x[iatom][k] = L.atoms[iatom].position[k] \n",
    "                iatom += 1\n",
    "    box_limits = [L.system.xhi-L.system.xlo, L.system.yhi-L.system.ylo, L.system.zhi-L.system.zlo] # box from lammps\n",
    "    # --------------------------\n",
    "    # create the freud box object\n",
    "    fbox = box.Box(Lx=box_limits[0], Ly=box_limits[1], Lz=box_limits[2])    \n",
    "\n",
    "    # compute 3-D static structure factor\n",
    "    strucFactor.compute(x)\n",
    "    \n",
    "    # get the value of the histogram bins of the structure factor\n",
    "    S = strucFactor.getS()\n",
    "    \n",
    "    # Create the object for the 1-D analog of the 3-D structure factor\n",
    "    stucOneD = kspace.AnalyzeSFactor3D(S)\n",
    "    \n",
    "    # Get a list of all S(∣∣q∣∣) values vs q2.\n",
    "    sModOne, q2 = stucOneD.getSvsQ()\n",
    "    # Take the square root of q2 to get q\n",
    "    qOne = np.sqrt(q2)\n",
    "    \n",
    "    # Average output over previous frames\n",
    "    sMod = 0.5*(sMod + sModOne)\n",
    "    q = 0.5*(qOne + q)\n",
    "\n",
    "    # ----------------------------\n",
    "    # Update frame number\n",
    "    print(\"Frame number \", frame)\n",
    "    frame = frame + dumpFreq\n",
    "stop_time = time.time()\n",
    "print(\"time to calc {} frames = {}\".format(nFrames, stop_time-start_time))\n",
    "print(\"speed of calc: {} (frames/sec)\".format((nFrames)/(stop_time-start_time)))\n",
    "\n",
    "pyplot.figure(figsize=(8, 5))\n",
    "pyplot.title(\"Structure Factor - Average\")\n",
    "pyplot.plot(q, sMod)\n",
    "pyplot.xlabel(r\"$q$\")\n",
    "pyplot.ylabel(r\"$S\\left( \\Vert q \\Vert \\right)$\")\n",
    "pyplot.tight_layout()\n",
    "pyplot.show()"
   ]
  }
 ],
 "metadata": {
  "kernelspec": {
   "display_name": "my-virtualenv-worm",
   "language": "python",
   "name": "my-virtualenv-worm"
  },
  "language_info": {
   "codemirror_mode": {
    "name": "ipython",
    "version": 3
   },
   "file_extension": ".py",
   "mimetype": "text/x-python",
   "name": "python",
   "nbconvert_exporter": "python",
   "pygments_lexer": "ipython3",
   "version": "3.7.0"
  }
 },
 "nbformat": 4,
 "nbformat_minor": 2
}
