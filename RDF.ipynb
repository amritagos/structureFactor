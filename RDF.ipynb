{
 "cells": [
  {
   "cell_type": "markdown",
   "metadata": {},
   "source": [
    "This code uses the freud package, alongwith PyLammps, to calculate the averaged RDF over a user-defined range of snapshots in a lammps trajectory file. "
   ]
  },
  {
   "cell_type": "code",
   "execution_count": 1,
   "metadata": {},
   "outputs": [
    {
     "name": "stdout",
     "output_type": "stream",
     "text": [
      "LAMMPS output is captured by PyLammps wrapper\n"
     ]
    }
   ],
   "source": [
    "import numpy as np\n",
    "import time\n",
    "from cycler import cycler\n",
    "import matplotlib\n",
    "from matplotlib import pyplot\n",
    "from matplotlib.colors import colorConverter\n",
    "myHexColors = [\"#30A2DA\", \"#FC4F30\", \"#E5AE38\", \"#6D904F\", \"#9757DB\", \"#188487\", \"#FF7F00\", \"#9A2C66\", \"#626DDA\", \"#8B8B8B\"]\n",
    "myColorCycle = [colorConverter.to_rgb(i) for i in myHexColors]\n",
    "from freud import parallel\n",
    "parallel.setNumThreads(4)\n",
    "\n",
    "from ipywidgets import IntProgress\n",
    "from IPython.display import display\n",
    "\n",
    "# matplotlib.rcParams.update({'font.sans-serif': 'Helvetica'})\n",
    "# matplotlib.rcParams.update({'font.family': 'sans-serif'})\n",
    "matplotlib.rcParams.update({'font.size': 24})\n",
    "matplotlib.rcParams.update({'axes.labelsize': 24})\n",
    "matplotlib.rcParams.update({'xtick.labelsize': 18})\n",
    "matplotlib.rcParams.update({'ytick.labelsize': 18})\n",
    "matplotlib.rcParams.update({'savefig.pad_inches': 0.025})\n",
    "matplotlib.rcParams.update({\"axes.prop_cycle\": cycler(color=myColorCycle)})\n",
    "matplotlib.rcParams.update({\"lines.linewidth\": 2})\n",
    "\n",
    "# lammps\n",
    "from lammps import lammps, PyLammps\n",
    "lmp = lammps()\n",
    "L = PyLammps(ptr=lmp) # Get PyLammps\n"
   ]
  },
  {
   "cell_type": "markdown",
   "metadata": {},
   "source": [
    "All the user-defined stuff is in the next section :"
   ]
  },
  {
   "cell_type": "code",
   "execution_count": 2,
   "metadata": {},
   "outputs": [],
   "source": [
    "# User-defined stuff\n",
    "system = 'liq'\n",
    "typeID = 1\n",
    "frameNo = 500000 #500000\n",
    "endFrame = 1000000 #1000000\n",
    "dumpFreq = 5000 #1000 #5000\n",
    "nFrames = int((endFrame - frameNo)/dumpFreq) + 1\n",
    "# Dumpfile name to read from \n",
    "dumpfile = 'traj/dump-' + system + '.lammpstrj'"
   ]
  },
  {
   "cell_type": "markdown",
   "metadata": {},
   "source": [
    "Average the RDF over the frames specified by frameNo and endFrame (inclusive of both). If you specify a frame that is not present in the lammps trajectory file, PyLammps will throw an error. \n",
    "\n",
    "If you run the cell below more than once, make sure to uncomment the PyLammps command for reading in the data file, or else you will get a Lammps error."
   ]
  },
  {
   "cell_type": "code",
   "execution_count": 3,
   "metadata": {},
   "outputs": [
    {
     "data": {
      "application/vnd.jupyter.widget-view+json": {
       "model_id": "87d7b0a74ce144fbbb6190115d1cf4a2",
       "version_major": 2,
       "version_minor": 0
      },
      "text/plain": [
       "IntProgress(value=1, max=101, min=1)"
      ]
     },
     "metadata": {},
     "output_type": "display_data"
    },
    {
     "name": "stdout",
     "output_type": "stream",
     "text": [
      "Frame number  500000\n",
      "Frame number  505000\n",
      "Frame number  510000\n",
      "Frame number  515000\n",
      "Frame number  520000\n",
      "Frame number  525000\n",
      "Frame number  530000\n",
      "Frame number  535000\n",
      "Frame number  540000\n",
      "Frame number  545000\n",
      "Frame number  550000\n",
      "Frame number  555000\n",
      "Frame number  560000\n",
      "Frame number  565000\n",
      "Frame number  570000\n",
      "Frame number  575000\n",
      "Frame number  580000\n",
      "Frame number  585000\n",
      "Frame number  590000\n",
      "Frame number  595000\n",
      "Frame number  600000\n",
      "Frame number  605000\n",
      "Frame number  610000\n",
      "Frame number  615000\n",
      "Frame number  620000\n",
      "Frame number  625000\n",
      "Frame number  630000\n",
      "Frame number  635000\n",
      "Frame number  640000\n",
      "Frame number  645000\n",
      "Frame number  650000\n",
      "Frame number  655000\n",
      "Frame number  660000\n",
      "Frame number  665000\n",
      "Frame number  670000\n",
      "Frame number  675000\n",
      "Frame number  680000\n",
      "Frame number  685000\n",
      "Frame number  690000\n",
      "Frame number  695000\n",
      "Frame number  700000\n",
      "Frame number  705000\n",
      "Frame number  710000\n",
      "Frame number  715000\n",
      "Frame number  720000\n",
      "Frame number  725000\n",
      "Frame number  730000\n",
      "Frame number  735000\n",
      "Frame number  740000\n",
      "Frame number  745000\n",
      "Frame number  750000\n",
      "Frame number  755000\n",
      "Frame number  760000\n",
      "Frame number  765000\n",
      "Frame number  770000\n",
      "Frame number  775000\n",
      "Frame number  780000\n",
      "Frame number  785000\n",
      "Frame number  790000\n",
      "Frame number  795000\n",
      "Frame number  800000\n",
      "Frame number  805000\n",
      "Frame number  810000\n",
      "Frame number  815000\n",
      "Frame number  820000\n",
      "Frame number  825000\n",
      "Frame number  830000\n",
      "Frame number  835000\n",
      "Frame number  840000\n",
      "Frame number  845000\n",
      "Frame number  850000\n",
      "Frame number  855000\n",
      "Frame number  860000\n",
      "Frame number  865000\n",
      "Frame number  870000\n",
      "Frame number  875000\n",
      "Frame number  880000\n",
      "Frame number  885000\n",
      "Frame number  890000\n",
      "Frame number  895000\n",
      "Frame number  900000\n",
      "Frame number  905000\n",
      "Frame number  910000\n",
      "Frame number  915000\n",
      "Frame number  920000\n",
      "Frame number  925000\n",
      "Frame number  930000\n",
      "Frame number  935000\n",
      "Frame number  940000\n",
      "Frame number  945000\n",
      "Frame number  950000\n",
      "Frame number  955000\n",
      "Frame number  960000\n",
      "Frame number  965000\n",
      "Frame number  970000\n",
      "Frame number  975000\n",
      "Frame number  980000\n",
      "Frame number  985000\n",
      "Frame number  990000\n",
      "Frame number  995000\n",
      "Frame number  1000000\n",
      "time to calc 101 frames = 416.4474148750305\n",
      "speed of calc: 0.24252761907600878 (frames/sec)\n"
     ]
    },
    {
     "data": {
      "image/png": "[encoded data removed]",
      "text/plain": [
       "<Figure size 576x360 with 1 Axes>"
      ]
     },
     "metadata": {},
     "output_type": "display_data"
    },
    {
     "data": {
      "text/plain": [
       "<Figure size 432x288 with 0 Axes>"
      ]
     },
     "metadata": {},
     "output_type": "display_data"
    }
   ],
   "source": [
    "# import the freud object\n",
    "# the rdf module is contained in the density module\n",
    "from freud import box, density\n",
    "\n",
    "# create the rdf object\n",
    "# make rmax less than half the box?\n",
    "rdf = density.RDF(rmax=4.0, dr=0.01) # 0.01\n",
    "\n",
    "# compute the rdf for for all frames except the first \n",
    "\n",
    "# Current frame\n",
    "frame = frameNo\n",
    "\n",
    "# compute the rdf for for all frames except the first (your syntax will vary based on your reader)\n",
    "myProgressBar = IntProgress(min=1,max=nFrames)\n",
    "display(myProgressBar)\n",
    "\n",
    "# Lammps init\n",
    "# load the data\n",
    "# Read in the lammps input file\n",
    "lmp.file('lammpsFiles/inp.'+ system) # LAMMPS input file for the system\n",
    "# Get the number of atoms of one typeID\n",
    "natoms = 0\n",
    "L.read_dump(dumpfile, frameNo, \"x y z box yes replace yes\")\n",
    "for i in range(L.atoms.natoms):\n",
    "    if L.atoms[i].type==typeID:\n",
    "        natoms += 1\n",
    "# Define numPy coordinate array; here natoms is the no. of atoms of type 1\n",
    "x = np.zeros((natoms,3), dtype=float)\n",
    "\n",
    "start_time = time.time()\n",
    "for i in range(nFrames):\n",
    "    # Progress bar\n",
    "    myProgressBar.value = int(frame/dumpFreq)\n",
    "    # --------------------------\n",
    "    # Lammps stuff\n",
    "    # read box, position data from the lammps dumpfile\n",
    "    L.read_dump(dumpfile, frame, \"x y z box yes replace yes\")\n",
    "    # Get coord\n",
    "    # Assigning values to numpy array x\n",
    "    for i in range(L.atoms.natoms):\n",
    "        if L.atoms[i].type==typeID:\n",
    "            for k in range(3):\n",
    "                x[i][k] = L.atoms[i].position[k]          \n",
    "    box_limits = [L.system.xhi-L.system.xlo, L.system.yhi-L.system.ylo, L.system.zhi-L.system.zlo] # box from lammps\n",
    "    # --------------------------\n",
    "    # create the freud box object\n",
    "    fbox = box.Box(Lx=box_limits[0], Ly=box_limits[1], Lz=box_limits[2])    \n",
    "\n",
    "    # accumulate\n",
    "    rdf.accumulate(fbox, x, x)\n",
    "\n",
    "    # ----------------------------\n",
    "    # Update frame number\n",
    "    print(\"Frame number \", frame)\n",
    "    frame = frame + dumpFreq\n",
    "stop_time = time.time()\n",
    "print(\"time to calc {} frames = {}\".format(nFrames, stop_time-start_time))\n",
    "print(\"speed of calc: {} (frames/sec)\".format((nFrames)/(stop_time-start_time)))\n",
    "\n",
    "# get the center of the histogram bins\n",
    "r = rdf.getR()\n",
    "# get the value of the histogram bins\n",
    "y = rdf.getRDF()\n",
    "\n",
    "pyplot.figure(figsize=(8, 5))\n",
    "pyplot.title(\"RDF - Avg Frames\")\n",
    "pyplot.plot(r, y)\n",
    "pyplot.xlabel(r\"$r$\")\n",
    "pyplot.ylabel(r\"$g\\left(r\\right)$\")\n",
    "pyplot.tight_layout()\n",
    "pyplot.show()\n",
    "pyplot.savefig('averaged_RDF.png')"
   ]
  },
  {
   "cell_type": "code",
   "execution_count": null,
   "metadata": {},
   "outputs": [],
   "source": []
  }
 ],
 "metadata": {
  "kernelspec": {
   "display_name": "Python 3",
   "language": "python",
   "name": "python3"
  },
  "language_info": {
   "codemirror_mode": {
    "name": "ipython",
    "version": 3
   },
   "file_extension": ".py",
   "mimetype": "text/x-python",
   "name": "python",
   "nbconvert_exporter": "python",
   "pygments_lexer": "ipython3",
   "version": "3.6.5"
  }
 },
 "nbformat": 4,
 "nbformat_minor": 2
}
